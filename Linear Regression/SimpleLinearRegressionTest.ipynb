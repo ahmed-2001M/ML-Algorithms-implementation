{
 "cells": [
  {
   "cell_type": "code",
   "execution_count": 64,
   "metadata": {},
   "outputs": [],
   "source": [
    "import matplotlib.pyplot as plt\n",
    "from matplotlib import style\n",
    "import numpy as np\n",
    "import random\n",
    "from SimpleLinearRegression import linearRegression\n",
    "import pandas as pd"
   ]
  },
  {
   "cell_type": "code",
   "execution_count": 65,
   "metadata": {},
   "outputs": [],
   "source": [
    "style.use('ggplot')"
   ]
  },
  {
   "cell_type": "code",
   "execution_count": 66,
   "metadata": {},
   "outputs": [],
   "source": [
    "def create_data(n , varience , step = 2, correlation = False):\n",
    "    val =0 \n",
    "    ys=[]\n",
    "    for i in range(n):\n",
    "        y = val + random.randrange(-varience , varience)\n",
    "        ys.append(y)\n",
    "        if correlation and correlation =='pos' :\n",
    "            val +=step\n",
    "        elif correlation and correlation == 'neg':\n",
    "            val -=step\n",
    "    xs = [i for i in range(len(ys))]\n",
    "    return np.array(xs,dtype= float) , np.array(ys,dtype=float)"
   ]
  },
  {
   "cell_type": "code",
   "execution_count": 67,
   "metadata": {},
   "outputs": [
    {
     "data": {
      "text/plain": [
       "[<matplotlib.lines.Line2D at 0x22e27869280>]"
      ]
     },
     "execution_count": 67,
     "metadata": {},
     "output_type": "execute_result"
    },
    {
     "data": {
      "image/png": "[encoded data removed]",
      "text/plain": [
       "<Figure size 432x288 with 1 Axes>"
      ]
     },
     "metadata": {},
     "output_type": "display_data"
    }
   ],
   "source": [
    "xs , ys = create_data(40,20,2,'pos')\n",
    "plt.scatter(xs,ys)\n",
    "\n",
    "\n",
    "clf = linearRegression()\n",
    "clf.fit(xs,ys)\n",
    "prediction = clf.predict(xs)\n",
    "\n",
    "plt.plot(xs,prediction)\n"
   ]
  }
 ],
 "metadata": {
  "kernelspec": {
   "display_name": "Python 3.9.7 ('base')",
   "language": "python",
   "name": "python3"
  },
  "language_info": {
   "codemirror_mode": {
    "name": "ipython",
    "version": 3
   },
   "file_extension": ".py",
   "mimetype": "text/x-python",
   "name": "python",
   "nbconvert_exporter": "python",
   "pygments_lexer": "ipython3",
   "version": "3.9.7"
  },
  "orig_nbformat": 4,
  "vscode": {
   "interpreter": {
    "hash": "4bd93d3e2369d766c292c7e8ea7d09dce32c9fd58b032bc2b1ce8b9b4c153d23"
   }
  }
 },
 "nbformat": 4,
 "nbformat_minor": 2
}
